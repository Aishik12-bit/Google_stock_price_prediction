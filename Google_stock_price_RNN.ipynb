{
  "cells": [
    {
      "cell_type": "markdown",
      "metadata": {
        "id": "xpAuMVCwfWs8"
      },
      "source": [
        "# Recurrent Neural Network"
      ]
    },
    {
      "cell_type": "markdown",
      "metadata": {
        "id": "nxJfRe4bfYVA"
      },
      "source": [
        "## Part 1 - Data Preprocessing"
      ]
    },
    {
      "cell_type": "markdown",
      "metadata": {
        "id": "ir9zwETrfbrp"
      },
      "source": [
        "### Importing the libraries"
      ]
    },
    {
      "cell_type": "code",
      "execution_count": null,
      "metadata": {
        "id": "m_b68XJrr_fV"
      },
      "outputs": [],
      "source": [
        "/Google_Stock_Price_Train.csv"
      ]
    },
    {
      "cell_type": "code",
      "execution_count": 1,
      "metadata": {
        "id": "ZT1f24vHffuf"
      },
      "outputs": [],
      "source": [
        "import numpy as np\n",
        "import matplotlib.pyplot as plt\n",
        "import pandas as pd"
      ]
    },
    {
      "cell_type": "markdown",
      "metadata": {
        "id": "nQ47JAxrgmaL"
      },
      "source": [
        "### Importing the training set"
      ]
    },
    {
      "cell_type": "code",
      "execution_count": 9,
      "metadata": {
        "colab": {
          "base_uri": "https://localhost:8080/"
        },
        "id": "1xiv3pJOgqY3",
        "outputId": "8a92d04b-2e95-4506-e7d6-31db50f2cba4"
      },
      "outputs": [
        {
          "name": "stdout",
          "output_type": "stream",
          "text": [
            "        Date    Open    High     Low   Close      Volume\n",
            "0   1/3/2012  325.25  332.83  324.97  663.59   7,380,500\n",
            "1   1/4/2012  331.27  333.87  329.08  666.45   5,749,400\n",
            "2   1/5/2012  329.83  330.75  326.89  657.21   6,590,300\n",
            "3   1/6/2012  328.34  328.77  323.68  648.24   5,405,900\n",
            "4   1/9/2012  322.04  322.29  309.46  620.76  11,688,800\n",
            "5  1/10/2012  313.70  315.72  307.30  621.43   8,824,000\n",
            "6  1/11/2012  310.59  313.52  309.40  624.25   4,817,800\n",
            "7  1/12/2012  314.43  315.26  312.08  627.92   3,764,400\n",
            "8  1/13/2012  311.96  312.30  309.37  623.28   4,631,800\n",
            "9  1/17/2012  314.81  314.81  311.67  626.86   3,832,800\n",
            "[[325.25]\n",
            " [331.27]\n",
            " [329.83]\n",
            " ...\n",
            " [793.7 ]\n",
            " [783.33]\n",
            " [782.75]]\n"
          ]
        }
      ],
      "source": [
        "dataset_train = pd.read_csv('/Google_Stock_Price_Train.csv')\n",
        "print(dataset_train.head(10))\n",
        "training_set = dataset_train.iloc[:, 1:2].values\n",
        "print(training_set)\n"
      ]
    },
    {
      "cell_type": "markdown",
      "metadata": {
        "id": "HT8_2UJegtG5"
      },
      "source": [
        "### Feature Scaling"
      ]
    },
    {
      "cell_type": "code",
      "execution_count": 6,
      "metadata": {
        "id": "OTrF2kR7gx9x"
      },
      "outputs": [],
      "source": [
        "from sklearn.preprocessing import MinMaxScaler\n",
        "sc = MinMaxScaler(feature_range = (0, 1))\n",
        "training_set_scaled = sc.fit_transform(training_set)\n"
      ]
    },
    {
      "cell_type": "markdown",
      "metadata": {
        "id": "JyYgYocqhNUg"
      },
      "source": [
        "### Creating a data structure with 60 timesteps and 1 output"
      ]
    },
    {
      "cell_type": "code",
      "execution_count": 7,
      "metadata": {
        "id": "iofU21B0i6ST"
      },
      "outputs": [],
      "source": [
        "X_train = []\n",
        "y_train = []\n",
        "for i in range(60, 1258):\n",
        "    X_train.append(training_set_scaled[i-60:i, 0])\n",
        "    y_train.append(training_set_scaled[i, 0])\n",
        "X_train, y_train = np.array(X_train), np.array(y_train)"
      ]
    },
    {
      "cell_type": "markdown",
      "metadata": {
        "id": "D8yaN7Zvi95l"
      },
      "source": [
        "### Reshaping"
      ]
    },
    {
      "cell_type": "code",
      "execution_count": 10,
      "metadata": {
        "colab": {
          "base_uri": "https://localhost:8080/"
        },
        "id": "FOXqJHmNjBkz",
        "outputId": "297a6ad1-03dd-4cea-b07d-184913757c81"
      },
      "outputs": [
        {
          "name": "stdout",
          "output_type": "stream",
          "text": [
            "[[[0.08581368]\n",
            "  [0.09701243]\n",
            "  [0.09433366]\n",
            "  ...\n",
            "  [0.07846566]\n",
            "  [0.08034452]\n",
            "  [0.08497656]]\n",
            "\n",
            " [[0.09701243]\n",
            "  [0.09433366]\n",
            "  [0.09156187]\n",
            "  ...\n",
            "  [0.08034452]\n",
            "  [0.08497656]\n",
            "  [0.08627874]]\n",
            "\n",
            " [[0.09433366]\n",
            "  [0.09156187]\n",
            "  [0.07984225]\n",
            "  ...\n",
            "  [0.08497656]\n",
            "  [0.08627874]\n",
            "  [0.08471612]]\n",
            "\n",
            " ...\n",
            "\n",
            " [[0.92106928]\n",
            "  [0.92438053]\n",
            "  [0.93048218]\n",
            "  ...\n",
            "  [0.95475854]\n",
            "  [0.95204256]\n",
            "  [0.95163331]]\n",
            "\n",
            " [[0.92438053]\n",
            "  [0.93048218]\n",
            "  [0.9299055 ]\n",
            "  ...\n",
            "  [0.95204256]\n",
            "  [0.95163331]\n",
            "  [0.95725128]]\n",
            "\n",
            " [[0.93048218]\n",
            "  [0.9299055 ]\n",
            "  [0.93113327]\n",
            "  ...\n",
            "  [0.95163331]\n",
            "  [0.95725128]\n",
            "  [0.93796041]]]\n"
          ]
        }
      ],
      "source": [
        "X_train = np.reshape(X_train, (X_train.shape[0], X_train.shape[1], 1))\n",
        "print(X_train)"
      ]
    },
    {
      "cell_type": "markdown",
      "metadata": {
        "id": "ZRRSOJeVjEWV"
      },
      "source": [
        "## Part 2 - Building and Training the RNN"
      ]
    },
    {
      "cell_type": "markdown",
      "metadata": {
        "id": "k4XV88JMjHXG"
      },
      "source": [
        "### Importing the Keras libraries and packages"
      ]
    },
    {
      "cell_type": "code",
      "execution_count": 11,
      "metadata": {
        "id": "9JRnqsxEjKsD"
      },
      "outputs": [],
      "source": [
        "from keras.models import Sequential\n",
        "from keras.layers import Dense\n",
        "from keras.layers import LSTM\n",
        "from keras.layers import Dropout"
      ]
    },
    {
      "cell_type": "markdown",
      "metadata": {
        "id": "FEIE-1s9jNzC"
      },
      "source": [
        "### Initialising the RNN"
      ]
    },
    {
      "cell_type": "code",
      "execution_count": 13,
      "metadata": {
        "id": "1338dJ0UjRKH"
      },
      "outputs": [],
      "source": [
        "regressor = Sequential()"
      ]
    },
    {
      "cell_type": "markdown",
      "metadata": {
        "id": "62eg1OPGjT8z"
      },
      "source": [
        "### Adding the first LSTM layer and some Dropout regularisation"
      ]
    },
    {
      "cell_type": "code",
      "execution_count": 14,
      "metadata": {
        "id": "2hIinyXUjbVU"
      },
      "outputs": [],
      "source": [
        "regressor.add(LSTM(units = 50, return_sequences = True, input_shape = (X_train.shape[1], 1)))\n",
        "regressor.add(Dropout(0.2))"
      ]
    },
    {
      "cell_type": "markdown",
      "metadata": {
        "id": "3XBIYLyOjlMx"
      },
      "source": [
        "### Adding a second LSTM layer and some Dropout regularisation"
      ]
    },
    {
      "cell_type": "code",
      "execution_count": 15,
      "metadata": {
        "id": "UG7nrVaSjuZ2"
      },
      "outputs": [],
      "source": [
        "regressor.add(LSTM(units = 50, return_sequences = True))\n",
        "regressor.add(Dropout(0.2))"
      ]
    },
    {
      "cell_type": "markdown",
      "metadata": {
        "id": "Ey3fHVnGj1cu"
      },
      "source": [
        "### Adding a third LSTM layer and some Dropout regularisation"
      ]
    },
    {
      "cell_type": "code",
      "execution_count": 16,
      "metadata": {
        "id": "PuNi6PgFj7jO"
      },
      "outputs": [],
      "source": [
        "regressor.add(LSTM(units = 50, return_sequences = True))\n",
        "regressor.add(Dropout(0.2))"
      ]
    },
    {
      "cell_type": "markdown",
      "metadata": {
        "id": "SYTrtfTmj933"
      },
      "source": [
        "### Adding a fourth LSTM layer and some Dropout regularisation"
      ]
    },
    {
      "cell_type": "code",
      "execution_count": 17,
      "metadata": {
        "id": "Jp4Ty8fRkBYV"
      },
      "outputs": [],
      "source": [
        "regressor.add(LSTM(units = 50))\n",
        "regressor.add(Dropout(0.2))"
      ]
    },
    {
      "cell_type": "markdown",
      "metadata": {
        "id": "9ABI6rOIkHhk"
      },
      "source": [
        "### Adding the output layer"
      ]
    },
    {
      "cell_type": "code",
      "execution_count": 18,
      "metadata": {
        "id": "aM6R1z4WkME8"
      },
      "outputs": [],
      "source": [
        "regressor.add(Dense(units = 1))"
      ]
    },
    {
      "cell_type": "markdown",
      "metadata": {
        "id": "zLx4K7uUkPSh"
      },
      "source": [
        "### Compiling the RNN"
      ]
    },
    {
      "cell_type": "code",
      "execution_count": 22,
      "metadata": {
        "colab": {
          "base_uri": "https://localhost:8080/"
        },
        "id": "XTrhVN-tkbko",
        "outputId": "52c35323-b335-49c4-cca8-69e5b86650d0"
      },
      "outputs": [
        {
          "name": "stdout",
          "output_type": "stream",
          "text": [
            "Model: \"sequential\"\n",
            "_________________________________________________________________\n",
            " Layer (type)                Output Shape              Param #   \n",
            "=================================================================\n",
            " lstm (LSTM)                 (None, 60, 50)            10400     \n",
            "                                                                 \n",
            " dropout (Dropout)           (None, 60, 50)            0         \n",
            "                                                                 \n",
            " lstm_1 (LSTM)               (None, 60, 50)            20200     \n",
            "                                                                 \n",
            " dropout_1 (Dropout)         (None, 60, 50)            0         \n",
            "                                                                 \n",
            " lstm_2 (LSTM)               (None, 60, 50)            20200     \n",
            "                                                                 \n",
            " dropout_2 (Dropout)         (None, 60, 50)            0         \n",
            "                                                                 \n",
            " lstm_3 (LSTM)               (None, 50)                20200     \n",
            "                                                                 \n",
            " dropout_3 (Dropout)         (None, 50)                0         \n",
            "                                                                 \n",
            " dense (Dense)               (None, 1)                 51        \n",
            "                                                                 \n",
            "=================================================================\n",
            "Total params: 71,051\n",
            "Trainable params: 71,051\n",
            "Non-trainable params: 0\n",
            "_________________________________________________________________\n"
          ]
        }
      ],
      "source": [
        "regressor.compile(optimizer = 'adam', loss = 'mean_squared_error', metrics=['accuracy'])\n",
        "regressor.summary()"
      ]
    },
    {
      "cell_type": "markdown",
      "metadata": {
        "id": "-mPhwKGkkebi"
      },
      "source": [
        "### Fitting the RNN to the Training set"
      ]
    },
    {
      "cell_type": "code",
      "execution_count": 28,
      "metadata": {
        "colab": {
          "base_uri": "https://localhost:8080/"
        },
        "id": "I06Nkrz5kkb-",
        "outputId": "8153db8c-c962-4c81-95ff-0075fc1a39b2"
      },
      "outputs": [
        {
          "name": "stdout",
          "output_type": "stream",
          "text": [
            "Epoch 1/150\n",
            "38/38 [==============================] - 1s 15ms/step - loss: 0.0014 - accuracy: 0.0017\n",
            "Epoch 2/150\n",
            "38/38 [==============================] - 1s 13ms/step - loss: 0.0013 - accuracy: 0.0017\n",
            "Epoch 3/150\n",
            "38/38 [==============================] - 1s 13ms/step - loss: 0.0013 - accuracy: 0.0017\n",
            "Epoch 4/150\n",
            "38/38 [==============================] - 0s 13ms/step - loss: 0.0016 - accuracy: 0.0017\n",
            "Epoch 5/150\n",
            "38/38 [==============================] - 1s 13ms/step - loss: 0.0013 - accuracy: 0.0017\n",
            "Epoch 6/150\n",
            "38/38 [==============================] - 0s 13ms/step - loss: 0.0012 - accuracy: 0.0017\n",
            "Epoch 7/150\n",
            "38/38 [==============================] - 1s 13ms/step - loss: 0.0015 - accuracy: 0.0017\n",
            "Epoch 8/150\n",
            "38/38 [==============================] - 1s 13ms/step - loss: 0.0012 - accuracy: 0.0017\n",
            "Epoch 9/150\n",
            "38/38 [==============================] - 1s 13ms/step - loss: 0.0013 - accuracy: 0.0017\n",
            "Epoch 10/150\n",
            "38/38 [==============================] - 0s 13ms/step - loss: 0.0014 - accuracy: 0.0017\n",
            "Epoch 11/150\n",
            "38/38 [==============================] - 1s 14ms/step - loss: 0.0013 - accuracy: 0.0017\n",
            "Epoch 12/150\n",
            "38/38 [==============================] - 0s 13ms/step - loss: 0.0013 - accuracy: 0.0017\n",
            "Epoch 13/150\n",
            "38/38 [==============================] - 1s 13ms/step - loss: 0.0011 - accuracy: 0.0017\n",
            "Epoch 14/150\n",
            "38/38 [==============================] - 0s 13ms/step - loss: 0.0014 - accuracy: 0.0017\n",
            "Epoch 15/150\n",
            "38/38 [==============================] - 1s 13ms/step - loss: 0.0012 - accuracy: 0.0017\n",
            "Epoch 16/150\n",
            "38/38 [==============================] - 0s 13ms/step - loss: 0.0011 - accuracy: 0.0017\n",
            "Epoch 17/150\n",
            "38/38 [==============================] - 1s 17ms/step - loss: 0.0013 - accuracy: 0.0017\n",
            "Epoch 18/150\n",
            "38/38 [==============================] - 1s 19ms/step - loss: 0.0012 - accuracy: 0.0017\n",
            "Epoch 19/150\n",
            "38/38 [==============================] - 1s 19ms/step - loss: 0.0014 - accuracy: 0.0017\n",
            "Epoch 20/150\n",
            "38/38 [==============================] - 1s 16ms/step - loss: 0.0013 - accuracy: 0.0017\n",
            "Epoch 21/150\n",
            "38/38 [==============================] - 0s 13ms/step - loss: 0.0012 - accuracy: 0.0017\n",
            "Epoch 22/150\n",
            "38/38 [==============================] - 1s 13ms/step - loss: 0.0012 - accuracy: 0.0017\n",
            "Epoch 23/150\n",
            "38/38 [==============================] - 0s 13ms/step - loss: 0.0013 - accuracy: 0.0017\n",
            "Epoch 24/150\n",
            "38/38 [==============================] - 0s 13ms/step - loss: 0.0013 - accuracy: 0.0017\n",
            "Epoch 25/150\n",
            "38/38 [==============================] - 0s 13ms/step - loss: 0.0013 - accuracy: 0.0017\n",
            "Epoch 26/150\n",
            "38/38 [==============================] - 0s 13ms/step - loss: 0.0011 - accuracy: 0.0017\n",
            "Epoch 27/150\n",
            "38/38 [==============================] - 0s 13ms/step - loss: 0.0012 - accuracy: 0.0017\n",
            "Epoch 28/150\n",
            "38/38 [==============================] - 0s 13ms/step - loss: 0.0012 - accuracy: 0.0017\n",
            "Epoch 29/150\n",
            "38/38 [==============================] - 0s 13ms/step - loss: 0.0014 - accuracy: 0.0017\n",
            "Epoch 30/150\n",
            "38/38 [==============================] - 1s 13ms/step - loss: 0.0012 - accuracy: 0.0017\n",
            "Epoch 31/150\n",
            "38/38 [==============================] - 0s 13ms/step - loss: 0.0011 - accuracy: 0.0017\n",
            "Epoch 32/150\n",
            "38/38 [==============================] - 1s 13ms/step - loss: 0.0011 - accuracy: 0.0017\n",
            "Epoch 33/150\n",
            "38/38 [==============================] - 1s 13ms/step - loss: 0.0012 - accuracy: 0.0017\n",
            "Epoch 34/150\n",
            "38/38 [==============================] - 0s 13ms/step - loss: 0.0011 - accuracy: 0.0017\n",
            "Epoch 35/150\n",
            "38/38 [==============================] - 0s 13ms/step - loss: 0.0011 - accuracy: 0.0017\n",
            "Epoch 36/150\n",
            "38/38 [==============================] - 1s 14ms/step - loss: 0.0013 - accuracy: 0.0017\n",
            "Epoch 37/150\n",
            "38/38 [==============================] - 0s 13ms/step - loss: 0.0013 - accuracy: 0.0017\n",
            "Epoch 38/150\n",
            "38/38 [==============================] - 1s 13ms/step - loss: 0.0011 - accuracy: 0.0017\n",
            "Epoch 39/150\n",
            "38/38 [==============================] - 1s 14ms/step - loss: 0.0012 - accuracy: 0.0017\n",
            "Epoch 40/150\n",
            "38/38 [==============================] - 1s 17ms/step - loss: 0.0013 - accuracy: 0.0017\n",
            "Epoch 41/150\n",
            "38/38 [==============================] - 1s 18ms/step - loss: 0.0014 - accuracy: 0.0017\n",
            "Epoch 42/150\n",
            "38/38 [==============================] - 1s 18ms/step - loss: 0.0012 - accuracy: 0.0017\n",
            "Epoch 43/150\n",
            "38/38 [==============================] - 1s 16ms/step - loss: 0.0012 - accuracy: 0.0017\n",
            "Epoch 44/150\n",
            "38/38 [==============================] - 1s 13ms/step - loss: 0.0013 - accuracy: 0.0017\n",
            "Epoch 45/150\n",
            "38/38 [==============================] - 1s 14ms/step - loss: 0.0011 - accuracy: 0.0017\n",
            "Epoch 46/150\n",
            "38/38 [==============================] - 1s 13ms/step - loss: 0.0011 - accuracy: 0.0017\n",
            "Epoch 47/150\n",
            "38/38 [==============================] - 1s 13ms/step - loss: 0.0011 - accuracy: 0.0017\n",
            "Epoch 48/150\n",
            "38/38 [==============================] - 1s 13ms/step - loss: 0.0011 - accuracy: 0.0017\n",
            "Epoch 49/150\n",
            "38/38 [==============================] - 1s 13ms/step - loss: 0.0012 - accuracy: 0.0017\n",
            "Epoch 50/150\n",
            "38/38 [==============================] - 0s 13ms/step - loss: 0.0011 - accuracy: 0.0017\n",
            "Epoch 51/150\n",
            "38/38 [==============================] - 1s 13ms/step - loss: 0.0011 - accuracy: 0.0017\n",
            "Epoch 52/150\n",
            "38/38 [==============================] - 0s 13ms/step - loss: 0.0010 - accuracy: 0.0017\n",
            "Epoch 53/150\n",
            "38/38 [==============================] - 1s 13ms/step - loss: 0.0012 - accuracy: 0.0017\n",
            "Epoch 54/150\n",
            "38/38 [==============================] - 1s 13ms/step - loss: 9.9497e-04 - accuracy: 0.0017\n",
            "Epoch 55/150\n",
            "38/38 [==============================] - 1s 13ms/step - loss: 0.0012 - accuracy: 0.0017\n",
            "Epoch 56/150\n",
            "38/38 [==============================] - 1s 13ms/step - loss: 0.0010 - accuracy: 0.0017\n",
            "Epoch 57/150\n",
            "38/38 [==============================] - 1s 14ms/step - loss: 0.0011 - accuracy: 0.0017\n",
            "Epoch 58/150\n",
            "38/38 [==============================] - 1s 14ms/step - loss: 0.0012 - accuracy: 0.0017\n",
            "Epoch 59/150\n",
            "38/38 [==============================] - 1s 14ms/step - loss: 0.0011 - accuracy: 0.0017\n",
            "Epoch 60/150\n",
            "38/38 [==============================] - 1s 13ms/step - loss: 0.0013 - accuracy: 0.0017\n",
            "Epoch 61/150\n",
            "38/38 [==============================] - 1s 13ms/step - loss: 0.0011 - accuracy: 0.0017\n",
            "Epoch 62/150\n",
            "38/38 [==============================] - 0s 13ms/step - loss: 0.0011 - accuracy: 0.0017\n",
            "Epoch 63/150\n",
            "38/38 [==============================] - 1s 18ms/step - loss: 9.2899e-04 - accuracy: 0.0017\n",
            "Epoch 64/150\n",
            "38/38 [==============================] - 1s 18ms/step - loss: 0.0011 - accuracy: 0.0017\n",
            "Epoch 65/150\n",
            "38/38 [==============================] - 1s 19ms/step - loss: 0.0010 - accuracy: 0.0017\n",
            "Epoch 66/150\n",
            "38/38 [==============================] - 1s 15ms/step - loss: 9.6892e-04 - accuracy: 0.0017\n",
            "Epoch 67/150\n",
            "38/38 [==============================] - 1s 13ms/step - loss: 0.0011 - accuracy: 0.0017\n",
            "Epoch 68/150\n",
            "38/38 [==============================] - 1s 13ms/step - loss: 0.0010 - accuracy: 0.0017\n",
            "Epoch 69/150\n",
            "38/38 [==============================] - 0s 13ms/step - loss: 9.6073e-04 - accuracy: 0.0017\n",
            "Epoch 70/150\n",
            "38/38 [==============================] - 1s 13ms/step - loss: 0.0011 - accuracy: 0.0017\n",
            "Epoch 71/150\n",
            "38/38 [==============================] - 1s 13ms/step - loss: 9.6511e-04 - accuracy: 0.0017\n",
            "Epoch 72/150\n",
            "38/38 [==============================] - 1s 13ms/step - loss: 0.0011 - accuracy: 0.0017\n",
            "Epoch 73/150\n",
            "38/38 [==============================] - 0s 13ms/step - loss: 0.0010 - accuracy: 0.0017\n",
            "Epoch 74/150\n",
            "38/38 [==============================] - 1s 14ms/step - loss: 9.8053e-04 - accuracy: 0.0017\n",
            "Epoch 75/150\n",
            "38/38 [==============================] - 0s 13ms/step - loss: 0.0010 - accuracy: 0.0017\n",
            "Epoch 76/150\n",
            "38/38 [==============================] - 1s 13ms/step - loss: 0.0011 - accuracy: 0.0017\n",
            "Epoch 77/150\n",
            "38/38 [==============================] - 1s 14ms/step - loss: 0.0010 - accuracy: 0.0017\n",
            "Epoch 78/150\n",
            "38/38 [==============================] - 1s 13ms/step - loss: 0.0011 - accuracy: 0.0017\n",
            "Epoch 79/150\n",
            "38/38 [==============================] - 1s 14ms/step - loss: 0.0012 - accuracy: 0.0017\n",
            "Epoch 80/150\n",
            "38/38 [==============================] - 0s 13ms/step - loss: 0.0012 - accuracy: 0.0017\n",
            "Epoch 81/150\n",
            "38/38 [==============================] - 1s 13ms/step - loss: 0.0011 - accuracy: 0.0017\n",
            "Epoch 82/150\n",
            "38/38 [==============================] - 1s 14ms/step - loss: 0.0010 - accuracy: 0.0017\n",
            "Epoch 83/150\n",
            "38/38 [==============================] - 1s 13ms/step - loss: 0.0011 - accuracy: 0.0017\n",
            "Epoch 84/150\n",
            "38/38 [==============================] - 1s 13ms/step - loss: 0.0011 - accuracy: 0.0017\n",
            "Epoch 85/150\n",
            "38/38 [==============================] - 1s 14ms/step - loss: 0.0010 - accuracy: 0.0017\n",
            "Epoch 86/150\n",
            "38/38 [==============================] - 1s 19ms/step - loss: 0.0011 - accuracy: 0.0017\n",
            "Epoch 87/150\n",
            "38/38 [==============================] - 1s 19ms/step - loss: 9.2052e-04 - accuracy: 0.0017\n",
            "Epoch 88/150\n",
            "38/38 [==============================] - 1s 19ms/step - loss: 0.0011 - accuracy: 0.0017\n",
            "Epoch 89/150\n",
            "38/38 [==============================] - 1s 15ms/step - loss: 9.9848e-04 - accuracy: 0.0017\n",
            "Epoch 90/150\n",
            "38/38 [==============================] - 1s 14ms/step - loss: 0.0011 - accuracy: 0.0017\n",
            "Epoch 91/150\n",
            "38/38 [==============================] - 1s 13ms/step - loss: 9.3895e-04 - accuracy: 0.0017\n",
            "Epoch 92/150\n",
            "38/38 [==============================] - 1s 14ms/step - loss: 9.8641e-04 - accuracy: 0.0017\n",
            "Epoch 93/150\n",
            "38/38 [==============================] - 0s 13ms/step - loss: 9.0546e-04 - accuracy: 0.0017\n",
            "Epoch 94/150\n",
            "38/38 [==============================] - 1s 14ms/step - loss: 0.0012 - accuracy: 0.0017\n",
            "Epoch 95/150\n",
            "38/38 [==============================] - 1s 13ms/step - loss: 9.7938e-04 - accuracy: 0.0017\n",
            "Epoch 96/150\n",
            "38/38 [==============================] - 1s 13ms/step - loss: 0.0011 - accuracy: 0.0017\n",
            "Epoch 97/150\n",
            "38/38 [==============================] - 1s 14ms/step - loss: 0.0011 - accuracy: 0.0017\n",
            "Epoch 98/150\n",
            "38/38 [==============================] - 1s 13ms/step - loss: 9.1279e-04 - accuracy: 0.0017\n",
            "Epoch 99/150\n",
            "38/38 [==============================] - 1s 13ms/step - loss: 8.7501e-04 - accuracy: 0.0017\n",
            "Epoch 100/150\n",
            "38/38 [==============================] - 1s 14ms/step - loss: 0.0011 - accuracy: 0.0017\n",
            "Epoch 101/150\n",
            "38/38 [==============================] - 1s 14ms/step - loss: 0.0010 - accuracy: 0.0017\n",
            "Epoch 102/150\n",
            "38/38 [==============================] - 1s 13ms/step - loss: 0.0012 - accuracy: 0.0017\n",
            "Epoch 103/150\n",
            "38/38 [==============================] - 1s 13ms/step - loss: 9.4152e-04 - accuracy: 0.0017\n",
            "Epoch 104/150\n",
            "38/38 [==============================] - 1s 13ms/step - loss: 8.8161e-04 - accuracy: 0.0017\n",
            "Epoch 105/150\n",
            "38/38 [==============================] - 0s 13ms/step - loss: 8.9512e-04 - accuracy: 0.0017\n",
            "Epoch 106/150\n",
            "38/38 [==============================] - 1s 14ms/step - loss: 0.0011 - accuracy: 0.0017\n",
            "Epoch 107/150\n",
            "38/38 [==============================] - 1s 13ms/step - loss: 8.6322e-04 - accuracy: 0.0017\n",
            "Epoch 108/150\n",
            "38/38 [==============================] - 1s 15ms/step - loss: 9.5697e-04 - accuracy: 0.0017\n",
            "Epoch 109/150\n",
            "38/38 [==============================] - 1s 19ms/step - loss: 0.0010 - accuracy: 0.0017\n",
            "Epoch 110/150\n",
            "38/38 [==============================] - 1s 18ms/step - loss: 9.7710e-04 - accuracy: 0.0017\n",
            "Epoch 111/150\n",
            "38/38 [==============================] - 1s 19ms/step - loss: 0.0012 - accuracy: 0.0017\n",
            "Epoch 112/150\n",
            "38/38 [==============================] - 0s 13ms/step - loss: 9.5926e-04 - accuracy: 0.0017\n",
            "Epoch 113/150\n",
            "38/38 [==============================] - 1s 14ms/step - loss: 9.4362e-04 - accuracy: 0.0017\n",
            "Epoch 114/150\n",
            "38/38 [==============================] - 1s 13ms/step - loss: 9.5544e-04 - accuracy: 0.0017\n",
            "Epoch 115/150\n",
            "38/38 [==============================] - 1s 13ms/step - loss: 9.6699e-04 - accuracy: 0.0017\n",
            "Epoch 116/150\n",
            "38/38 [==============================] - 1s 14ms/step - loss: 9.4450e-04 - accuracy: 0.0017\n",
            "Epoch 117/150\n",
            "38/38 [==============================] - 1s 13ms/step - loss: 0.0011 - accuracy: 0.0017\n",
            "Epoch 118/150\n",
            "38/38 [==============================] - 0s 13ms/step - loss: 0.0010 - accuracy: 0.0017\n",
            "Epoch 119/150\n",
            "38/38 [==============================] - 1s 14ms/step - loss: 9.2461e-04 - accuracy: 0.0017\n",
            "Epoch 120/150\n",
            "38/38 [==============================] - 1s 13ms/step - loss: 9.3682e-04 - accuracy: 0.0017\n",
            "Epoch 121/150\n",
            "38/38 [==============================] - 1s 13ms/step - loss: 0.0011 - accuracy: 0.0017\n",
            "Epoch 122/150\n",
            "38/38 [==============================] - 0s 13ms/step - loss: 9.1314e-04 - accuracy: 0.0017\n",
            "Epoch 123/150\n",
            "38/38 [==============================] - 1s 14ms/step - loss: 0.0010 - accuracy: 0.0017\n",
            "Epoch 124/150\n",
            "38/38 [==============================] - 0s 13ms/step - loss: 0.0010 - accuracy: 0.0017\n",
            "Epoch 125/150\n",
            "38/38 [==============================] - 1s 13ms/step - loss: 9.8585e-04 - accuracy: 0.0017\n",
            "Epoch 126/150\n",
            "38/38 [==============================] - 0s 13ms/step - loss: 9.2319e-04 - accuracy: 0.0017\n",
            "Epoch 127/150\n",
            "38/38 [==============================] - 1s 13ms/step - loss: 9.3402e-04 - accuracy: 0.0017\n",
            "Epoch 128/150\n",
            "38/38 [==============================] - 1s 13ms/step - loss: 0.0010 - accuracy: 0.0017\n",
            "Epoch 129/150\n",
            "38/38 [==============================] - 1s 13ms/step - loss: 0.0010 - accuracy: 0.0017\n",
            "Epoch 130/150\n",
            "38/38 [==============================] - 1s 13ms/step - loss: 9.1081e-04 - accuracy: 0.0017\n",
            "Epoch 131/150\n",
            "38/38 [==============================] - 1s 17ms/step - loss: 8.5074e-04 - accuracy: 0.0017\n",
            "Epoch 132/150\n",
            "38/38 [==============================] - 1s 19ms/step - loss: 9.0359e-04 - accuracy: 0.0017\n",
            "Epoch 133/150\n",
            "38/38 [==============================] - 1s 17ms/step - loss: 9.4378e-04 - accuracy: 0.0017\n",
            "Epoch 134/150\n",
            "38/38 [==============================] - 1s 17ms/step - loss: 9.3653e-04 - accuracy: 0.0017\n",
            "Epoch 135/150\n",
            "38/38 [==============================] - 1s 14ms/step - loss: 0.0011 - accuracy: 0.0017\n",
            "Epoch 136/150\n",
            "38/38 [==============================] - 1s 14ms/step - loss: 9.4368e-04 - accuracy: 0.0017\n",
            "Epoch 137/150\n",
            "38/38 [==============================] - 1s 13ms/step - loss: 9.0663e-04 - accuracy: 0.0017\n",
            "Epoch 138/150\n",
            "38/38 [==============================] - 1s 13ms/step - loss: 9.5534e-04 - accuracy: 0.0017\n",
            "Epoch 139/150\n",
            "38/38 [==============================] - 1s 13ms/step - loss: 0.0011 - accuracy: 0.0017\n",
            "Epoch 140/150\n",
            "38/38 [==============================] - 1s 13ms/step - loss: 9.3038e-04 - accuracy: 0.0017\n",
            "Epoch 141/150\n",
            "38/38 [==============================] - 1s 14ms/step - loss: 9.3417e-04 - accuracy: 0.0017\n",
            "Epoch 142/150\n",
            "38/38 [==============================] - 0s 13ms/step - loss: 9.3909e-04 - accuracy: 0.0017\n",
            "Epoch 143/150\n",
            "38/38 [==============================] - 1s 14ms/step - loss: 0.0010 - accuracy: 0.0017\n",
            "Epoch 144/150\n",
            "38/38 [==============================] - 1s 15ms/step - loss: 8.8340e-04 - accuracy: 0.0017\n",
            "Epoch 145/150\n",
            "38/38 [==============================] - 1s 14ms/step - loss: 9.1925e-04 - accuracy: 0.0017\n",
            "Epoch 146/150\n",
            "38/38 [==============================] - 1s 14ms/step - loss: 9.2212e-04 - accuracy: 0.0017\n",
            "Epoch 147/150\n",
            "38/38 [==============================] - 1s 15ms/step - loss: 9.0349e-04 - accuracy: 0.0017\n",
            "Epoch 148/150\n",
            "38/38 [==============================] - 1s 14ms/step - loss: 8.5967e-04 - accuracy: 0.0017\n",
            "Epoch 149/150\n",
            "38/38 [==============================] - 1s 13ms/step - loss: 8.2338e-04 - accuracy: 0.0017\n",
            "Epoch 150/150\n",
            "38/38 [==============================] - 1s 13ms/step - loss: 9.3125e-04 - accuracy: 0.0017\n"
          ]
        },
        {
          "data": {
            "text/plain": [
              "<keras.callbacks.History at 0x7f393443feb0>"
            ]
          },
          "execution_count": 28,
          "metadata": {},
          "output_type": "execute_result"
        }
      ],
      "source": [
        "regressor.fit(X_train, y_train, epochs = 150, batch_size = 32)"
      ]
    },
    {
      "cell_type": "markdown",
      "metadata": {
        "id": "4hRau_lIkrE8"
      },
      "source": [
        "## Part 3 - Making the predictions and visualising the results"
      ]
    },
    {
      "cell_type": "markdown",
      "metadata": {
        "id": "SgJO6qEDksxD"
      },
      "source": [
        "### Getting the real stock price of 2017"
      ]
    },
    {
      "cell_type": "code",
      "execution_count": 29,
      "metadata": {
        "id": "FmBT2zqukxTz"
      },
      "outputs": [],
      "source": [
        "dataset_test = pd.read_csv('/Google_Stock_Price_Test.csv')\n",
        "real_stock_price = dataset_test.iloc[:, 1:2].values"
      ]
    },
    {
      "cell_type": "markdown",
      "metadata": {
        "id": "GrvrLblxkz42"
      },
      "source": [
        "### Getting the predicted stock price of 2017"
      ]
    },
    {
      "cell_type": "code",
      "execution_count": 30,
      "metadata": {
        "colab": {
          "base_uri": "https://localhost:8080/"
        },
        "id": "emikTvUpk3Ck",
        "outputId": "c822f737-27b5-4b07-e660-16e58c656cd1"
      },
      "outputs": [
        {
          "name": "stdout",
          "output_type": "stream",
          "text": [
            "1/1 [==============================] - 0s 25ms/step\n"
          ]
        }
      ],
      "source": [
        "dataset_total = pd.concat((dataset_train['Open'], dataset_test['Open']), axis = 0)\n",
        "inputs = dataset_total[len(dataset_total) - len(dataset_test) - 60:].values\n",
        "inputs = inputs.reshape(-1,1)\n",
        "inputs = sc.transform(inputs)\n",
        "X_test = []\n",
        "for i in range(60, 80):\n",
        "    X_test.append(inputs[i-60:i, 0])\n",
        "X_test = np.array(X_test)\n",
        "X_test = np.reshape(X_test, (X_test.shape[0], X_test.shape[1], 1))\n",
        "predicted_stock_price = regressor.predict(X_test)\n",
        "predicted_stock_price = sc.inverse_transform(predicted_stock_price)"
      ]
    },
    {
      "cell_type": "markdown",
      "metadata": {
        "id": "iFTNs3YHk6FQ"
      },
      "source": [
        "### Visualising the results"
      ]
    },
    {
      "cell_type": "code",
      "execution_count": 31,
      "metadata": {
        "colab": {
          "base_uri": "https://localhost:8080/",
          "height": 472
        },
        "id": "8OUI8U49k9tH",
        "outputId": "39be7e48-235f-4a19-ca85-b1b33e0e13b1"
      },
      "outputs": [
        {
          "data": {
            "image/png": "[encoded data removed]",
            "text/plain": [
              "<Figure size 640x480 with 1 Axes>"
            ]
          },
          "metadata": {},
          "output_type": "display_data"
        }
      ],
      "source": [
        "plt.plot(real_stock_price, color = 'red', label = 'Real Google Stock Price')\n",
        "plt.plot(predicted_stock_price, color = 'blue', label = 'Predicted Google Stock Price')\n",
        "plt.title('Google Stock Price Prediction')\n",
        "plt.xlabel('Time')\n",
        "plt.ylabel('Google Stock Price')\n",
        "plt.legend()\n",
        "plt.show()"
      ]
    },
    {
      "cell_type": "markdown",
      "metadata": {},
      "source": [
        "Evaluation with RMS\n"
      ]
    },
    {
      "cell_type": "code",
      "execution_count": null,
      "metadata": {},
      "outputs": [],
      "source": [
        "import math\n",
        "from sklearn.metrics import mean_squared_error\n",
        "rmse = math.sqrt(mean_squared_error(real_stock_price, predicted_stock_price))"
      ]
    }
  ],
  "metadata": {
    "accelerator": "GPU",
    "colab": {
      "gpuType": "T4",
      "provenance": []
    },
    "kernelspec": {
      "display_name": "Python 3",
      "name": "python3"
    }
  },
  "nbformat": 4,
  "nbformat_minor": 0
}
